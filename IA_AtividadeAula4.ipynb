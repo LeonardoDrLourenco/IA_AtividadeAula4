{
  "nbformat": 4,
  "nbformat_minor": 0,
  "metadata": {
    "colab": {
      "provenance": [],
      "authorship_tag": "ABX9TyMQOVRo6BPorR7Yc1E4S+jt",
      "include_colab_link": true
    },
    "kernelspec": {
      "name": "python3",
      "display_name": "Python 3"
    },
    "language_info": {
      "name": "python"
    }
  },
  "cells": [
    {
      "cell_type": "markdown",
      "metadata": {
        "id": "view-in-github",
        "colab_type": "text"
      },
      "source": [
        "<a href=\"https://colab.research.google.com/github/LeonardoDrLourenco/IA_AtividadeAula4/blob/main/IA_AtividadeAula4.ipynb\" target=\"_parent\"><img src=\"https://colab.research.google.com/assets/colab-badge.svg\" alt=\"Open In Colab\"/></a>"
      ]
    },
    {
      "cell_type": "markdown",
      "source": [
        "### **Gerar Grafo**"
      ],
      "metadata": {
        "id": "HQ_LTXGXHRq6"
      }
    },
    {
      "cell_type": "code",
      "execution_count": 1,
      "metadata": {
        "id": "emZlb783EhzA"
      },
      "outputs": [],
      "source": [
        "import networkx as nx\n",
        "import matplotlib.pyplot as plt"
      ]
    },
    {
      "cell_type": "markdown",
      "source": [
        "Função para criar um grafo de exemplo"
      ],
      "metadata": {
        "id": "keDyo-IeHfnE"
      }
    },
    {
      "cell_type": "code",
      "source": [
        "def criar_grafo_exemplo():\n",
        "    G = nx.Graph()\n",
        "\n",
        "    # Adiciona nós\n",
        "    G.add_nodes_from([\"X\", \"Y\", \"Z\", \"W\", \"V\", \"U\", \"T\", \"S\"])\n",
        "\n",
        "    # Adiciona arestas\n",
        "    G.add_edges_from([(\"X\", \"Y\"), (\"Y\", \"W\"), (\"Y\", \"V\"), (\"V\", \"S\"), (\"X\", \"Z\"), (\"Z\", \"U\"), (\"Z\", \"T\")])\n",
        "\n",
        "    return G"
      ],
      "metadata": {
        "id": "T4wn4aBbEvkP"
      },
      "execution_count": 2,
      "outputs": []
    },
    {
      "cell_type": "markdown",
      "source": [
        "Função para desenhar grafo"
      ],
      "metadata": {
        "id": "EXZibzsbJ7S2"
      }
    },
    {
      "cell_type": "code",
      "source": [
        "def desenhar_grafo(grafo):\n",
        "    pos = nx.spring_layout(grafo)\n",
        "    nx.draw(grafo, pos, with_labels=True, font_weight='bold', node_size=700, node_color='skyblue', font_size=10)\n",
        "    plt.show()"
      ],
      "metadata": {
        "id": "QAA48rm3E30D"
      },
      "execution_count": 3,
      "outputs": []
    },
    {
      "cell_type": "markdown",
      "source": [
        "Criar um grafo de exemplo"
      ],
      "metadata": {
        "id": "PbwO4HYsKbB2"
      }
    },
    {
      "cell_type": "code",
      "source": [
        "grafo_novo = criar_grafo_exemplo()"
      ],
      "metadata": {
        "id": "DTAtZY9vKfR0"
      },
      "execution_count": 4,
      "outputs": []
    },
    {
      "cell_type": "markdown",
      "source": [
        "Desenhar o grafo"
      ],
      "metadata": {
        "id": "hfsHE6RcKk83"
      }
    },
    {
      "cell_type": "code",
      "source": [
        "desenhar_grafo(grafo_novo)"
      ],
      "metadata": {
        "colab": {
          "base_uri": "https://localhost:8080/",
          "height": 516
        },
        "id": "Wvp9d4VtKvjt",
        "outputId": "e54611c4-16d8-43c6-962e-cb5c3549ad6d"
      },
      "execution_count": 5,
      "outputs": [
        {
          "output_type": "display_data",
          "data": {
            "text/plain": [
              "<Figure size 640x480 with 1 Axes>"
            ],
            "image/png": "[encoded data removed]"
          },
          "metadata": {}
        }
      ]
    },
    {
      "cell_type": "markdown",
      "source": [
        "### **Algoritmo de Busca - \"Busca Cega\"**"
      ],
      "metadata": {
        "id": "FeM2nMpGK3wh"
      }
    },
    {
      "cell_type": "code",
      "source": [
        "from collections import deque"
      ],
      "metadata": {
        "id": "narh8X6ZLF4O"
      },
      "execution_count": 6,
      "outputs": []
    },
    {
      "cell_type": "markdown",
      "source": [
        "Função para detectar o menor caminho à ser percorrido:"
      ],
      "metadata": {
        "id": "A6q3wPviLILc"
      }
    },
    {
      "cell_type": "code",
      "source": [
        "def busca_largura(grafo, inicio, objetivo):\n",
        "    fila = deque([(inicio, [inicio])])\n",
        "\n",
        "    while fila:\n",
        "        vertice, caminho = fila.popleft()\n",
        "        for vizinho in grafo[vertice]:\n",
        "            if vizinho not in caminho:\n",
        "                if vizinho == objetivo:\n",
        "                    return caminho + [vizinho]\n",
        "                else:\n",
        "                    fila.append((vizinho, caminho + [vizinho]))"
      ],
      "metadata": {
        "id": "14DYaE-eLauV"
      },
      "execution_count": 7,
      "outputs": []
    },
    {
      "cell_type": "markdown",
      "source": [
        "Testar caminhos mais curtos"
      ],
      "metadata": {
        "id": "3wCtF7rLL6xt"
      }
    },
    {
      "cell_type": "code",
      "source": [
        "origem = \"X\"\n",
        "destino = \"S\"\n",
        "caminho_mais_curto = busca_largura(grafo_novo, origem, destino)\n",
        "print(f\"Caminho mais curto entre {origem} e {destino}: {caminho_mais_curto}\")"
      ],
      "metadata": {
        "colab": {
          "base_uri": "https://localhost:8080/"
        },
        "id": "02vEEz8bL9rG",
        "outputId": "99d3464d-7679-4ad8-af94-3b62509911ed"
      },
      "execution_count": 8,
      "outputs": [
        {
          "output_type": "stream",
          "name": "stdout",
          "text": [
            "Caminho mais curto entre X e S: ['X', 'Y', 'V', 'S']\n"
          ]
        }
      ]
    }
  ]
}